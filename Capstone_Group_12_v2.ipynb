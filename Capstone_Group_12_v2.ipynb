{
  "nbformat": 4,
  "nbformat_minor": 0,
  "metadata": {
    "colab": {
      "provenance": [],
      "toc_visible": true,
      "authorship_tag": "ABX9TyN44x8Aluh/4O+wTuEttfA0"
    },
    "kernelspec": {
      "name": "python3",
      "display_name": "Python 3"
    },
    "language_info": {
      "name": "python"
    }
  },
  "cells": [
    {
      "cell_type": "markdown",
      "source": [
        "Adding information soon"
      ],
      "metadata": {
        "id": "9yBcqCwKmELn"
      }
    },
    {
      "cell_type": "markdown",
      "source": [
        "# **Initial Data Processing**\n",
        "\n",
        "Citations:"
      ],
      "metadata": {
        "id": "J6ctbUPYx98S"
      }
    },
    {
      "cell_type": "markdown",
      "source": [
        "**Importing Packages**"
      ],
      "metadata": {
        "id": "cgBB0GrsxB3y"
      }
    },
    {
      "cell_type": "code",
      "source": [],
      "metadata": {
        "id": "LT63zdMbxJ59"
      },
      "execution_count": null,
      "outputs": []
    },
    {
      "cell_type": "markdown",
      "source": [
        "**Importing Data**\n",
        "\n",
        "Data source: XYZ"
      ],
      "metadata": {
        "id": "4_UqTSbtxE1A"
      }
    },
    {
      "cell_type": "code",
      "source": [],
      "metadata": {
        "id": "nhHL8u6GxJA9"
      },
      "execution_count": null,
      "outputs": []
    },
    {
      "cell_type": "markdown",
      "source": [
        "**Merging Dataframes, Transformations, Mutates, etc.**"
      ],
      "metadata": {
        "id": "qH9iJEltxKTS"
      }
    },
    {
      "cell_type": "code",
      "source": [],
      "metadata": {
        "id": "zgj4LzNCxRBy"
      },
      "execution_count": null,
      "outputs": []
    },
    {
      "cell_type": "markdown",
      "source": [
        "**EDA**"
      ],
      "metadata": {
        "id": "u72ru2-9xRno"
      }
    },
    {
      "cell_type": "code",
      "source": [],
      "metadata": {
        "id": "6hfAWTBTxSsM"
      },
      "execution_count": null,
      "outputs": []
    },
    {
      "cell_type": "markdown",
      "source": [
        "# **Model Preprocessing**\n",
        "\n",
        "Citations:"
      ],
      "metadata": {
        "id": "bKjskDv2yPsF"
      }
    }
  ]
}