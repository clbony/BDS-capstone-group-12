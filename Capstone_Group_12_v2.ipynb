{
  "nbformat": 4,
  "nbformat_minor": 0,
  "metadata": {
    "colab": {
      "provenance": [],
      "authorship_tag": "ABX9TyMqmhujQ6wtc83Us8WGBcAn"
    },
    "kernelspec": {
      "name": "python3",
      "display_name": "Python 3"
    },
    "language_info": {
      "name": "python"
    }
  },
  "cells": [
    {
      "cell_type": "markdown",
      "source": [
        "Adding information soon"
      ],
      "metadata": {
        "id": "9yBcqCwKmELn"
      }
    }
  ]
}